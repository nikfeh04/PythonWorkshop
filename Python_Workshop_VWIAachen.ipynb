{
 "cells": [
  {
   "cell_type": "code",
   "execution_count": null,
   "metadata": {},
   "outputs": [],
   "source": [
    "print('Funktioniert!')"
   ]
  },
  {
   "cell_type": "code",
   "execution_count": null,
   "metadata": {},
   "outputs": [],
   "source": [
    "import sys\n",
    "print(sys.version)"
   ]
  },
  {
   "cell_type": "markdown",
   "metadata": {},
   "source": [
    "# Was wir hier vorhaben:\n",
    "### - Was ist Python und wofür kann man es nutzen?\n",
    "### - Einführung in Grundlegende Konzepte des Programmierens\n",
    "### - Weiterführende Anregungen und Links\n",
    "### - Einführung in den Data Science Stack"
   ]
  },
  {
   "cell_type": "markdown",
   "metadata": {},
   "source": [
    "### ----------------------------------------------------------------------------------------"
   ]
  },
  {
   "cell_type": "markdown",
   "metadata": {},
   "source": [
    "## Infos\n",
    "\n",
    "Python wurde 1991 vom niederländischen Informatiker Guido van Rossum konzipiert\n",
    "Die Idee war es, eine einfache, übersichtliche und gut lesbare Programmiersprache zu entwickeln, welche verschiedene Paradigmen der Programmierung unterstützt. \n",
    "\n",
    "Durch diese Eigenschaften wird die Sprache viel im akademischen und wissenschaftlichen Bereich verwendet, verschiedene Bibliotheken machen die Sprache auch im Bereich Data Science (Numpy, SciPy) oder AI Anwendungen (PyTorch, TensorFlow) populär\n",
    "\n",
    "### Nun aber los 😀"
   ]
  },
  {
   "cell_type": "markdown",
   "metadata": {},
   "source": [
    "##### Link\n",
    "https://github.com/nikfeh04/PythonWorkshop"
   ]
  },
  {
   "cell_type": "markdown",
   "metadata": {},
   "source": [
    "## Variablen und Datentypen"
   ]
  },
  {
   "cell_type": "code",
   "execution_count": null,
   "metadata": {},
   "outputs": [],
   "source": [
    "# Variablen werden (ähnlich wie in der Mathematik) in verschiedenen Anwendungen verwendet\n",
    "# Sie werden mit einem '=' zugewiesen\n",
    "x = 2\n",
    "y = 4\n",
    "# Man kann damit natürlich auch rechnen\n",
    "print(x*y)\n",
    "print(x+y)"
   ]
  },
  {
   "cell_type": "code",
   "execution_count": null,
   "metadata": {},
   "outputs": [],
   "source": [
    "# Variablen können neue Werte zugewiesen bekommen\n",
    "print(x)\n",
    "x = 15\n",
    "print(x)"
   ]
  },
  {
   "cell_type": "markdown",
   "metadata": {},
   "source": [
    "#### Programme arbeiten mit Daten. Diese werden durch Objekte repräsentiert. (Eine Variable \"zeigt\" auf ein Objekt und lässt uns damit arbeiten.)\n",
    "\n",
    "Python bietet verschiedene, integrierte Datentypen. Dazu gehören verschiedene Zahlen, Zeichenketten oder Sammeltypen ('Arrays')"
   ]
  },
  {
   "cell_type": "code",
   "execution_count": null,
   "metadata": {},
   "outputs": [],
   "source": [
    "# Gleitkommazahlen (float)\n",
    "z = 4.56\n",
    "# Ganzzahl \n",
    "x = 16\n",
    "# Zeichenkette (string)\n",
    "name = 'VWI'\n",
    "# Wahrheitswerte (boolean)\n",
    "isTrue = True"
   ]
  },
  {
   "cell_type": "code",
   "execution_count": null,
   "metadata": {},
   "outputs": [],
   "source": [
    "# In Python ist es egal, von welchem Typ eine Variable ist\n",
    "x = 15\n",
    "print(x)\n",
    "x = 'Keks'\n",
    "print(x)\n",
    "# Das geht in einer Sprache wie Java NICHT!"
   ]
  },
  {
   "cell_type": "code",
   "execution_count": null,
   "metadata": {},
   "outputs": [],
   "source": [
    "# Für die Verarbeitung von Zahlen gibt es verschiedene Operatoren\n",
    "print(16*89)\n",
    "print(16/4)\n",
    "print(15//10) # Division ohne Rest\n",
    "print(15%10) # \"Modulo\"-Operator, Rest der Division\n",
    "print(15**15) # Potenz"
   ]
  },
  {
   "cell_type": "code",
   "execution_count": null,
   "metadata": {},
   "outputs": [],
   "source": [
    "# Mit verschiedenen Operatoren lassen sich auch logische Ausdrücke schaffen\n",
    "x = 5\n",
    "y = 6\n",
    "print(x==y) # Vergleich\n",
    "# Man kann das ganze beliebig verschachteln\n",
    "print(5%5 != 0) \n",
    "# Auch kann man eine Variable auf seinen typen prüfen\n",
    "type(5) == int"
   ]
  },
  {
   "cell_type": "markdown",
   "metadata": {},
   "source": [
    "Eine Liste der Operatoren findet sich z.B. hier:\n",
    "https://www.python-kurs.eu/operatoren.php"
   ]
  },
  {
   "cell_type": "markdown",
   "metadata": {},
   "source": [
    "#### Jede Sprache besitzt verschiedene Sammeltypen. Wir wollen uns hier vor allem Listen ansehen"
   ]
  },
  {
   "cell_type": "code",
   "execution_count": null,
   "metadata": {},
   "outputs": [],
   "source": [
    "# Eine Liste wird mit eckigen Klammern dargestellt\n",
    "liste = [1,2,3,3,4,5]\n",
    "print(liste)\n",
    "# Eine Liste ist geordnet, und es kann auf verschiedene Elemente der Liste zugegriffen werden\n",
    "print(liste[0])  # 0 ist der Index des Elements 1\n",
    "# Weiterhin können einzelne Elemente der Liste verändert werden\n",
    "liste[0] = 99\n",
    "print(liste)"
   ]
  },
  {
   "cell_type": "code",
   "execution_count": null,
   "metadata": {},
   "outputs": [],
   "source": [
    "# Zudem kann man einen slice aus einer Liste holen\n",
    "teilliste = liste[0:2]\n",
    "print(teilliste)"
   ]
  },
  {
   "cell_type": "code",
   "execution_count": null,
   "metadata": {},
   "outputs": [],
   "source": [
    "# -1 lässt uns von hinten zählen\n",
    "print(liste[-1])"
   ]
  },
  {
   "cell_type": "code",
   "execution_count": null,
   "metadata": {},
   "outputs": [],
   "source": [
    "# Eine Liste bietet verschiedene nützliche funktionen, diese werden mit dem Punktoperator aufgerufen\n",
    "liste.append(8)\n",
    "print(liste)\n",
    "liste.pop(1)  # Entfernt Wert an 2. Stelle\n",
    "print(liste)"
   ]
  },
  {
   "cell_type": "code",
   "execution_count": null,
   "metadata": {},
   "outputs": [],
   "source": [
    "# Eine Liste kann verschiedene Datentypen enthalten\n",
    "neueListe = [5, True, 'Keks']\n",
    "print(neueListe)"
   ]
  },
  {
   "cell_type": "code",
   "execution_count": null,
   "metadata": {},
   "outputs": [],
   "source": [
    "# Weiterhin gibt es Tupel (nicht veränderbar, runde KLammern)\n",
    "tupel = (2,3,4)\n",
    "tupel[0] = 99"
   ]
  },
  {
   "cell_type": "code",
   "execution_count": null,
   "metadata": {},
   "outputs": [],
   "source": [
    "# Ein Set ist ein Ungeordneter Datentyp\n",
    "set1 = {1,2,3,4,5,1}\n",
    "print(set1)  # Ein Set enthält keine Einträge Doppelt\n",
    "set1[1]  # Ein Set ist nicht indexiert"
   ]
  },
  {
   "cell_type": "code",
   "execution_count": null,
   "metadata": {},
   "outputs": [],
   "source": [
    "# Ein weiterer Interessanter Datentype ist das sogennante Dictionary\n",
    "# Es besteht aus eine key und einem Value\n",
    "mein_dict = {'a' : 1, 'b' : 2}\n",
    "print(mein_dict['a'])\n",
    "print(mein_dict.keys())"
   ]
  },
  {
   "cell_type": "code",
   "execution_count": null,
   "metadata": {},
   "outputs": [],
   "source": [
    "# Man kann abfragen, ob sich ein Wert innerhalb einer Sequenz befindet\n",
    "liste = [1,2,3,43,5,56]\n",
    "print(1 in liste)\n",
    "print('keks' in liste)"
   ]
  },
  {
   "cell_type": "markdown",
   "metadata": {},
   "source": [
    "## Kontrollstrukturen\n",
    "\n",
    "Normalerweise wird ein Programm Zeile für Zeile abgearbeitet. Um hier Abhilfe zu schaffen, gibt es sogenannte Kontrollstrukturen (Verzweigungen und Schleifen)\n",
    "Strukturiert wird der Code über Einrückungen"
   ]
  },
  {
   "cell_type": "code",
   "execution_count": null,
   "metadata": {},
   "outputs": [],
   "source": [
    "# Python besitzt zwei Arten von Schleifen\n",
    "counter = 0\n",
    "while counter <= 5:  # Der Anfang der Schleife wird mit einem : markiert\n",
    "    print(counter)  # Teile der Schleife werden eingerückt\n",
    "    counter = counter + 1\n",
    "print('Fertig')  # NAch Ende der Schleife endet die Einrückung\n",
    "# while. Führe eine Anweisung aus, solange eine logische Bedingung Wahr ist."
   ]
  },
  {
   "cell_type": "code",
   "execution_count": null,
   "metadata": {},
   "outputs": [],
   "source": [
    "# Bedingung ist niemals falsch, Endlosschleife\n",
    "while True:\n",
    "    print('Endlosschleife') # Aufpassen"
   ]
  },
  {
   "cell_type": "code",
   "execution_count": null,
   "metadata": {},
   "outputs": [],
   "source": [
    "# Wenn eine Anweisung n-mal ausgeführt wird, dann verwendet man eine for-Schleife\n",
    "for i in range(5):\n",
    "    print(i)\n",
    "# Das i existiert danach auch ausserhalb der schleife\n",
    "print(i)"
   ]
  },
  {
   "cell_type": "code",
   "execution_count": null,
   "metadata": {},
   "outputs": [],
   "source": [
    "# Man kann auch direkt über eine Liste o.ä. durchiterieren\n",
    "liste = [1,2,3,4,5]\n",
    "for i in liste:\n",
    "    print(i)"
   ]
  },
  {
   "cell_type": "code",
   "execution_count": null,
   "metadata": {},
   "outputs": [],
   "source": [
    "# Verschiedene zu prüfende Fälle kann man mit einer if-else Verzweigung durchgehen\n",
    "alter = 35\n",
    "if alter <= 15:\n",
    "    print('Kinderrabatt')\n",
    "elif alter >= 65:   # Beliebig viele elif's sind möglich\n",
    "    print('Seniorenrabatt')\n",
    "else:\n",
    "    print('Normaler Preis')\n",
    "# Auf jedes if muss ein else folgen!"
   ]
  },
  {
   "cell_type": "markdown",
   "metadata": {},
   "source": [
    "##### Schleifen und Verzweigungen können beliebig innenander verschachtelt werden."
   ]
  },
  {
   "cell_type": "markdown",
   "metadata": {},
   "source": [
    "## Funktionen\n",
    "\n",
    "Funktionen werden wie in der Mathematik genutzt. Dabei werden ihnen Parameter übergeben und dort verarbeitet. Eine Funktion kann etwas zurückgeben oder nicht"
   ]
  },
  {
   "cell_type": "code",
   "execution_count": null,
   "metadata": {},
   "outputs": [],
   "source": [
    "def funktionsname(parameterliste):\n",
    "    # Hier stehen die Anwendungen\n",
    "    pass"
   ]
  },
  {
   "cell_type": "code",
   "execution_count": null,
   "metadata": {},
   "outputs": [],
   "source": [
    "# Funktion die zwei Werte Addiert\n",
    "def addiere(x,y):\n",
    "    zwischenwert = x + y\n",
    "    return zwischenwert"
   ]
  },
  {
   "cell_type": "code",
   "execution_count": null,
   "metadata": {},
   "outputs": [],
   "source": [
    "# Eine Funktion aufrufen\n",
    "ergebnis = addiere(5,9)\n",
    "print(ergebnis)"
   ]
  },
  {
   "cell_type": "code",
   "execution_count": null,
   "metadata": {},
   "outputs": [],
   "source": [
    "# Die Variable zwischenwert ist lokal nur der funktion bekannt, nicht ausserhalb\n",
    "print(zwischenwert)"
   ]
  },
  {
   "cell_type": "code",
   "execution_count": null,
   "metadata": {},
   "outputs": [],
   "source": [
    "# Es ist möglich, verschiedene Parameter als optional zu deklarieren\n",
    "# Dann werden sie mit einem Standardwert initialisiert\n",
    "def addiere(x,y=0):\n",
    "    zwischenwert = x + y\n",
    "    return zwischenwert"
   ]
  },
  {
   "cell_type": "code",
   "execution_count": null,
   "metadata": {},
   "outputs": [],
   "source": [
    "z = addiere(5)\n",
    "print(z)  # 5 + 0"
   ]
  },
  {
   "cell_type": "code",
   "execution_count": null,
   "metadata": {},
   "outputs": [],
   "source": [
    "# In einer Funktion können alle bekannten Prinzipien angewendet werden\n",
    "def berechnePreis(alter, status='Vollzahler'): \n",
    "    standard_price = 25.0\n",
    "    # Rabatte für verschiedene Gruppen\n",
    "    discount_S = 0.2\n",
    "    discount_R = 0.10\n",
    "    if alter <= 25 or status == 'Student':\n",
    "        return standard_price * (1-discount_S)\n",
    "    elif (alter <= 65 and alter >= 25) or status == 'Vollzahler':\n",
    "        return standard_price\n",
    "    else:\n",
    "        return standard_price * (1-discount_R)    "
   ]
  },
  {
   "cell_type": "code",
   "execution_count": null,
   "metadata": {},
   "outputs": [],
   "source": [
    "# Wir können das nun alles zu einem kleinen Programm zusammenführen\n",
    "# Abfrage einer Benutzereingabe\n",
    "age = float(input('Your Age: '))\n",
    "status = input('Your Status: ')\n",
    "# Aufruf der Funktion mit der Benutzereingabe\n",
    "price = berechnePreis(age, status)\n",
    "# Ausgabe des Ergebnisses\n",
    "print('Der Eintrittspreis ist:', price, 'Euro')"
   ]
  },
  {
   "cell_type": "markdown",
   "metadata": {},
   "source": [
    "## Geschafft! "
   ]
  },
  {
   "cell_type": "markdown",
   "metadata": {},
   "source": [
    "Das war ein allererster Einblick in die Programmiersprache Python. Um \"richtig\" Programmieren zu lernen, ist es am einfachsten, sich ein eigenes Projekt zu suchen und zu versuchen, diese mit Python umzusetzen (credit: M. Henrich)"
   ]
  },
  {
   "cell_type": "markdown",
   "metadata": {},
   "source": [
    "#### Weiterführende Links\n",
    "##### https://www.python-kurs.eu/python3_entstehung_python.php  - Ausführlicher Grundkurs mit allen wichtigen Dingen\n",
    "##### https://www.codementor.io/@garethdwyer/building-a-telegram-bot-using-python-part-1-goi5fncay  - Einen Chatbot mit Telegram bauen\n",
    "##### https://www.udemy.com/course/python-data-science-machine-learning/learn/lecture/7758128#overview - Nutze Python für Data Science und Maschinelles Lernen. "
   ]
  },
  {
   "cell_type": "markdown",
   "metadata": {},
   "source": []
  }
 ],
 "metadata": {
  "kernelspec": {
   "display_name": "Python 3",
   "language": "python",
   "name": "python3"
  },
  "language_info": {
   "codemirror_mode": {
    "name": "ipython",
    "version": 3
   },
   "file_extension": ".py",
   "mimetype": "text/x-python",
   "name": "python",
   "nbconvert_exporter": "python",
   "pygments_lexer": "ipython3",
   "version": "3.7.3"
  }
 },
 "nbformat": 4,
 "nbformat_minor": 4
}
